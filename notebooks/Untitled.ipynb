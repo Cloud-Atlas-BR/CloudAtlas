{
 "cells": [
  {
   "cell_type": "code",
   "execution_count": 1,
   "metadata": {},
   "outputs": [],
   "source": [
    "from CloudAtlas.DadosAbertos import SenadoFederal\n",
    "from CloudAtlas.Utils import yesterday"
   ]
  },
  {
   "cell_type": "code",
   "execution_count": 2,
   "metadata": {},
   "outputs": [],
   "source": [
    "data, meta = yesterday(days=15)\n",
    "senado = SenadoFederal()\n",
    "content, response = senado.listar_votacoes(data=data.strftime(\"%Y%m%d\"))\n",
    "votacoes = content.get(\"ListaVotacoes\", {}).get(\"Votacoes\", {}).get(\"Votacao\")"
   ]
  },
  {
   "cell_type": "code",
   "execution_count": null,
   "metadata": {},
   "outputs": [],
   "source": [
    "bucket = \"cloudatlas-datalake\"\n",
    "prefix = f\"raw/senado/votacoes/{meta['ano']}/{meta['mes']}/{meta['dia']}\""
   ]
  },
  {
   "cell_type": "code",
   "execution_count": null,
   "metadata": {},
   "outputs": [],
   "source": [
    "import boto3\n",
    "import json\n",
    "\n",
    "def salvar_votacoes(votacoes, tipo=\"local\", **kwargs):\n",
    "    for votacao in votacoes:\n",
    "        materia = votacao.get(\"CodigoMateria\")\n",
    "        if tipo == \"local\":\n",
    "            with open(f\"{materia}.json\", \"w\") as f:\n",
    "                json.dump(votacao, f)  \n",
    "        if tipo == \"s3\":\n",
    "            bucket = kwargs.get(\"bucket\")\n",
    "            prefix = kwargs.get(\"prefix\")\n",
    "            key = f\"{prefix}/{materia}.json\"\n",
    "            s3 = boto3.resource('s3')\n",
    "            s3.Object(bucket, key).put(Body=json.dumps(votacao).encode(\"utf-8\"))          "
   ]
  },
  {
   "cell_type": "code",
   "execution_count": null,
   "metadata": {},
   "outputs": [],
   "source": [
    "salvar_votacoes(votacoes, tipo=\"s3\", bucket=bucket, prefix=prefix)"
   ]
  }
 ],
 "metadata": {
  "kernelspec": {
   "display_name": "Python 3",
   "language": "python",
   "name": "python3"
  },
  "language_info": {
   "codemirror_mode": {
    "name": "ipython",
    "version": 3
   },
   "file_extension": ".py",
   "mimetype": "text/x-python",
   "name": "python",
   "nbconvert_exporter": "python",
   "pygments_lexer": "ipython3",
   "version": "3.8.5"
  }
 },
 "nbformat": 4,
 "nbformat_minor": 4
}
